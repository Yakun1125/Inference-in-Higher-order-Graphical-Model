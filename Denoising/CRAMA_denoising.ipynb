{
  "cells": [
    {
      "cell_type": "markdown",
      "metadata": {
        "id": "evIk3MgEtfM3"
      },
      "source": [
        "## Required Packages\n",
        "\n",
        "Ensure you have the following Python packages installed to run this notebook:\n",
        "\n",
        "- `numpy`: For numerical operations.\n",
        "- `gurobipy`: The Python API for Gurobi optimizer.\n",
        "\n",
        "You can install these packages via pip and system commands if you don't have them already.\n"
      ]
    },
    {
      "cell_type": "code",
      "execution_count": null,
      "metadata": {
        "id": "KnzAj9D03Ude"
      },
      "outputs": [],
      "source": [
        "#!pip install gurobipy  # install gurobipy, if not already installed"
      ]
    },
    {
      "cell_type": "code",
      "execution_count": null,
      "metadata": {
        "id": "1hEHdgOwC7US"
      },
      "outputs": [],
      "source": [
        "!pip install gurobipy"
      ]
    },
    {
      "cell_type": "markdown",
      "source": [
        "## Utilities"
      ],
      "metadata": {
        "id": "yrpPGsySAVqJ"
      }
    },
    {
      "cell_type": "code",
      "execution_count": 2,
      "metadata": {
        "id": "8K6YXeHvDO3R"
      },
      "outputs": [],
      "source": [
        "import numpy as np\n",
        "import gurobipy as gp\n",
        "from gurobipy import GRB\n",
        "import itertools\n",
        "import random\n",
        "import string\n",
        "import time\n",
        "import os"
      ]
    },
    {
      "cell_type": "markdown",
      "metadata": {
        "id": "zoK5G8MzDGn8"
      },
      "source": [
        "**Read input matrix (image)**"
      ]
    },
    {
      "cell_type": "code",
      "execution_count": 3,
      "metadata": {
        "id": "wMHrk_Cu3suc"
      },
      "outputs": [],
      "source": [
        "def read_data(file_name):\n",
        "    # Read data from file and store in a matrix, and manage M, N, and mapping\n",
        "    matrix = np.loadtxt(file_name)\n",
        "    M, N = matrix.shape\n",
        "\n",
        "    mapping = {}\n",
        "    _edge_idx = 0\n",
        "\n",
        "    # Generate keys for subsets of a 2x2 block of size 2, 3, and 4\n",
        "    for i in range(M - 1):\n",
        "        for j in range(N - 1):\n",
        "            arr = [(i, j), (i, j + 1), (i + 1, j), (i + 1, j + 1)]\n",
        "            # Generate combinations of size 2, 3, and 4\n",
        "            for size in range(2, 5):  # Only combinations of size 2, 3, and 4\n",
        "                for subset in itertools.combinations(arr, size):\n",
        "                    key = ','.join(f\"{pair[0]},{pair[1]}\" for pair in subset) + ','\n",
        "                    if key not in mapping:\n",
        "                        mapping[key] = _edge_idx\n",
        "                        _edge_idx += 1\n",
        "\n",
        "    return matrix, mapping\n",
        "\n",
        "#clean_matrix, mapping = read_data('/content/CEN_15.txt')"
      ]
    },
    {
      "cell_type": "code",
      "execution_count": 6,
      "metadata": {
        "id": "2RO1IVBCDTKl"
      },
      "outputs": [],
      "source": [
        "clean_matrix, mapping = read_data('/content/CEN_15.txt')"
      ]
    },
    {
      "cell_type": "code",
      "execution_count": 7,
      "metadata": {
        "id": "ZiO6pOuPIUAo"
      },
      "outputs": [],
      "source": [
        "def compute_potential(pattern_potential):\n",
        "    # Calculate objective coefficients\n",
        "    objective_coefficients = [0.0] * 15\n",
        "    temp = [\n",
        "        pattern_potential[1] - pattern_potential[0],  # xi\n",
        "        pattern_potential[0] - 2 * pattern_potential[1] + pattern_potential[2],  # xixj\n",
        "        -pattern_potential[0] + 4 * pattern_potential[1] - 2 * pattern_potential[2] - pattern_potential[3],  # xixjxk\n",
        "        2 * pattern_potential[0] - 8 * pattern_potential[1] + 4 * pattern_potential[2] + 2 * pattern_potential[3],  # term 4\n",
        "        pattern_potential[0] - 2 * pattern_potential[1] + pattern_potential[3]  # xixj alternative\n",
        "    ]\n",
        "\n",
        "    for i in range(4):\n",
        "        objective_coefficients[i] = temp[0]\n",
        "    for i in range(4, 6):\n",
        "        objective_coefficients[i] = temp[4]\n",
        "    for i in range(6, 10):\n",
        "        objective_coefficients[i] = temp[1]\n",
        "    for i in range(10, 14):\n",
        "        objective_coefficients[i] = temp[2]\n",
        "    objective_coefficients[14] = temp[3]\n",
        "\n",
        "    return objective_coefficients"
      ]
    },
    {
      "cell_type": "code",
      "execution_count": 8,
      "metadata": {
        "colab": {
          "base_uri": "https://localhost:8080/"
        },
        "id": "e-_z0XYMJXqT",
        "outputId": "f8f12a41-0359-449c-a63f-e0b62686c3c5"
      },
      "outputs": [
        {
          "output_type": "stream",
          "name": "stdout",
          "text": [
            "[10, 10, 10, 10, 10, 10, 0, 0, 0, 0, -30, -30, -30, -30, 60]\n"
          ]
        }
      ],
      "source": [
        "pattern_potential = [10,20,30,40]\n",
        "objective_coefficients = compute_potential(pattern_potential)\n",
        "print(objective_coefficients)"
      ]
    },
    {
      "cell_type": "markdown",
      "source": [
        "Use Gurobi WLS license"
      ],
      "metadata": {
        "id": "v4SurN4XAMM1"
      }
    },
    {
      "cell_type": "code",
      "execution_count": null,
      "metadata": {
        "id": "TvTsN419QgYi"
      },
      "outputs": [],
      "source": [
        "params = {\n",
        "    \"WLSACCESSID\": \"\",\n",
        "    \"WLSSECRET\": \"\",\n",
        "    \"LICENSEID\": ,\n",
        "}\n",
        "\n",
        "env = gp.Env(params=params)"
      ]
    },
    {
      "cell_type": "markdown",
      "source": [
        "## Define IPs and LPs"
      ],
      "metadata": {
        "id": "odNC5GPo_3Ww"
      }
    },
    {
      "cell_type": "code",
      "execution_count": 10,
      "metadata": {
        "id": "an1pSGWQK_E3"
      },
      "outputs": [],
      "source": [
        "def e(mapping, *args):\n",
        "    \"\"\" Helper function to convert indices into mapping keys. \"\"\"\n",
        "    filtered_indices = [arg for arg in args if arg != (-1, -1)]\n",
        "    filtered_indices.sort(key=lambda x: (x[0], x[1]))\n",
        "    key = ','.join(f\"{idx[0]},{idx[1]}\" for idx in filtered_indices) + ','\n",
        "    if key not in mapping:\n",
        "        print(\"Key Error:\", key)\n",
        "        print(\"Available keys:\", mapping.keys())\n",
        "    return mapping.get(key, 'Default')\n",
        "\n",
        "def define_std_IP_model(matrix, mapping):\n",
        "    M, N = matrix.shape\n",
        "    model = gp.Model(env=env)\n",
        "\n",
        "    x = [[model.addVar(vtype=GRB.BINARY, name=f\"x_{i}_{j}\") for j in range(N)] for i in range(M)]\n",
        "    y = [model.addVar(vtype=GRB.BINARY, name=f\"y_{i}\") for i in range(len(mapping))]\n",
        "\n",
        "    for i in range(M - 1):\n",
        "      for j in range(N - 1):\n",
        "          v1, v2, v3, v4 = (i, j), (i, j + 1), (i + 1, j), (i + 1, j + 1)\n",
        "\n",
        "          y_v1_v2_v3 = y[e(mapping, v1, v2, v3)]\n",
        "          y_v1_v2_v4 = y[e(mapping, v1, v2, v4)]\n",
        "          y_v1_v3_v4 = y[e(mapping, v1, v3, v4)]\n",
        "          y_v2_v3_v4 = y[e(mapping, v2, v3, v4)]\n",
        "          y_v1_v2_v3_v4 = y[e(mapping, v1, v2, v3, v4)]\n",
        "          y_v1_v2 = y[e(mapping, v1, v2)]\n",
        "          y_v1_v3 = y[e(mapping, v1, v3)]\n",
        "          y_v1_v4 = y[e(mapping, v1, v4)]\n",
        "          y_v2_v3 = y[e(mapping, v2, v3)]\n",
        "          y_v2_v4 = y[e(mapping, v2, v4)]\n",
        "          y_v3_v4 = y[e(mapping, v3, v4)]\n",
        "\n",
        "          model.addConstr(y_v1_v2 <= x[i][j])\n",
        "          model.addConstr(y_v1_v2 <= x[i][j + 1])\n",
        "          model.addConstr(y_v1_v2 >= x[i][j] + x[i][j + 1] - 1)\n",
        "          model.addConstr(y_v1_v3 <= x[i][j])\n",
        "          model.addConstr(y_v1_v3 <= x[i + 1][j])\n",
        "          model.addConstr(y_v1_v3 >= x[i][j] + x[i + 1][j] - 1)\n",
        "          model.addConstr(y_v1_v4 <= x[i][j])\n",
        "          model.addConstr(y_v1_v4 <= x[i + 1][j + 1])\n",
        "          model.addConstr(y_v1_v4 >= x[i][j] + x[i + 1][j + 1] - 1)\n",
        "          model.addConstr(y_v2_v3 <= x[i][j + 1])\n",
        "          model.addConstr(y_v2_v3 <= x[i + 1][j])\n",
        "          model.addConstr(y_v2_v3 >= x[i][j + 1] + x[i + 1][j] - 1)\n",
        "          model.addConstr(y_v2_v4 <= x[i][j + 1])\n",
        "          model.addConstr(y_v2_v4 <= x[i + 1][j + 1])\n",
        "          model.addConstr(y_v2_v4 >= x[i][j + 1] + x[i + 1][j + 1] - 1)\n",
        "          model.addConstr(y_v3_v4 <= x[i + 1][j])\n",
        "          model.addConstr(y_v3_v4 <= x[i + 1][j + 1])\n",
        "          model.addConstr(y_v3_v4 >= x[i + 1][j] + x[i + 1][j + 1] - 1)\n",
        "          model.addConstr(y_v1_v2_v3 <= x[i][j])\n",
        "          model.addConstr(y_v1_v2_v3 <= x[i][j + 1])\n",
        "          model.addConstr(y_v1_v2_v3 <= x[i + 1][j])\n",
        "          model.addConstr(y_v1_v2_v3 >= x[i][j] + x[i][j + 1] + x[i + 1][j] - 2)\n",
        "          model.addConstr(y_v1_v2_v4 <= x[i][j])\n",
        "          model.addConstr(y_v1_v2_v4 <= x[i][j + 1])\n",
        "          model.addConstr(y_v1_v2_v4 <= x[i + 1][j + 1])\n",
        "          model.addConstr(y_v1_v2_v4 >= x[i][j] + x[i][j + 1] + x[i + 1][j + 1] - 2)\n",
        "          model.addConstr(y_v1_v3_v4 <= x[i][j])\n",
        "          model.addConstr(y_v1_v3_v4 <= x[i + 1][j])\n",
        "          model.addConstr(y_v1_v3_v4 <= x[i + 1][j + 1])\n",
        "          model.addConstr(y_v1_v3_v4 >= x[i][j] + x[i + 1][j] + x[i + 1][j + 1] - 2)\n",
        "          model.addConstr(y_v2_v3_v4 <= x[i][j + 1])\n",
        "          model.addConstr(y_v2_v3_v4 <= x[i + 1][j])\n",
        "          model.addConstr(y_v2_v3_v4 <= x[i + 1][j + 1])\n",
        "          model.addConstr(y_v2_v3_v4 >= x[i][j + 1] + x[i + 1][j] + x[i + 1][j + 1] - 2)\n",
        "          model.addConstr(y_v1_v2_v3_v4 <= x[i][j])\n",
        "          model.addConstr(y_v1_v2_v3_v4 <= x[i][j + 1])\n",
        "          model.addConstr(y_v1_v2_v3_v4 <= x[i + 1][j])\n",
        "          model.addConstr(y_v1_v2_v3_v4 <= x[i + 1][j + 1])\n",
        "          model.addConstr(y_v1_v2_v3_v4 >= x[i][j] + x[i][j + 1] + x[i + 1][j] + x[i + 1][j + 1] - 3)\n",
        "\n",
        "    return model,x,y\n",
        "\n",
        "def define_clique_IP_model(matrix, mapping):\n",
        "    M, N = matrix.shape\n",
        "    model = gp.Model(env=env)\n",
        "\n",
        "    x = [[model.addVar(vtype=GRB.BINARY, name=f\"x_{i}_{j}\") for j in range(N)] for i in range(M)]\n",
        "    y = [model.addVar(vtype=GRB.BINARY, name=f\"y_{i}\") for i in range(len(mapping))]\n",
        "\n",
        "    # Using clique LP as constraints\n",
        "    for i in range(M - 1):\n",
        "      for j in range(N - 1):\n",
        "          v1, v2, v3, v4 = (i, j), (i, j + 1), (i + 1, j), (i + 1, j + 1)\n",
        "\n",
        "          y_v1_v2_v3 = y[e(mapping, v1, v2, v3)]\n",
        "          y_v1_v2_v4 = y[e(mapping, v1, v2, v4)]\n",
        "          y_v1_v3_v4 = y[e(mapping, v1, v3, v4)]\n",
        "          y_v2_v3_v4 = y[e(mapping, v2, v3, v4)]\n",
        "          y_v1_v2_v3_v4 = y[e(mapping, v1, v2, v3, v4)]\n",
        "          y_v1_v2 = y[e(mapping, v1, v2)]\n",
        "          y_v1_v3 = y[e(mapping, v1, v3)]\n",
        "          y_v1_v4 = y[e(mapping, v1, v4)]\n",
        "          y_v2_v3 = y[e(mapping, v2, v3)]\n",
        "          y_v2_v4 = y[e(mapping, v2, v4)]\n",
        "          y_v3_v4 = y[e(mapping, v3, v4)]\n",
        "          model.addConstr(y_v1_v2_v3 - y_v1_v2_v3_v4 >= 0)\n",
        "          model.addConstr(y_v1_v2_v4 - y_v1_v2_v3_v4 >= 0)\n",
        "          model.addConstr(y_v1_v3_v4 - y_v1_v2_v3_v4 >= 0)\n",
        "          model.addConstr(y_v2_v3_v4 - y_v1_v2_v3_v4 >= 0)\n",
        "          model.addConstr(-y_v1_v2 + y_v1_v2_v3 + y_v1_v2_v4 - y_v1_v2_v3_v4 <= 0)\n",
        "          model.addConstr(-y_v1_v3 + y_v1_v2_v3 + y_v1_v3_v4 - y_v1_v2_v3_v4 <= 0)\n",
        "          model.addConstr(-y_v1_v4 + y_v1_v2_v4 + y_v1_v3_v4 - y_v1_v2_v3_v4 <= 0)\n",
        "          model.addConstr(-y_v2_v3 + y_v1_v2_v3 + y_v2_v3_v4 - y_v1_v2_v3_v4 <= 0)\n",
        "          model.addConstr(-y_v2_v4 + y_v1_v2_v4 + y_v2_v3_v4 - y_v1_v2_v3_v4 <= 0)\n",
        "          model.addConstr(-y_v3_v4 + y_v1_v3_v4 + y_v2_v3_v4 - y_v1_v2_v3_v4 <= 0)\n",
        "          model.addConstr(-x[i][j] + y_v1_v2 + y_v1_v3 + y_v1_v4 - y_v1_v2_v3 - y_v1_v2_v4 - y_v1_v3_v4 + y_v1_v2_v3_v4 <= 0)\n",
        "          model.addConstr(-x[i][j+1] + y_v1_v2 + y_v2_v3 + y_v2_v4 - y_v1_v2_v3 - y_v1_v2_v4 - y_v2_v3_v4 + y_v1_v2_v3_v4 <= 0)\n",
        "          model.addConstr(-x[i+1][j] + y_v1_v3 + y_v2_v3 + y_v3_v4 - y_v1_v2_v3 - y_v1_v3_v4 - y_v2_v3_v4 + y_v1_v2_v3_v4 <= 0)\n",
        "          model.addConstr(-x[i+1][j+1] + y_v1_v4 + y_v2_v4 + y_v3_v4 - y_v1_v2_v4 - y_v1_v3_v4 - y_v2_v3_v4 + y_v1_v2_v3_v4 <= 0)\n",
        "          model.addConstr(x[i][j] + x[i][j+1] + x[i+1][j] + x[i+1][j+1] - y_v1_v2 - y_v1_v3 - y_v1_v4 - y_v2_v3 - y_v2_v4 - y_v3_v4 + y_v1_v2_v3 + y_v1_v2_v4 + y_v1_v3_v4 + y_v2_v3_v4 - y_v1_v2_v3_v4 <= 1)\n",
        "\n",
        "    return model,x,y"
      ]
    },
    {
      "cell_type": "code",
      "execution_count": 11,
      "metadata": {
        "id": "TQR9JZ0vUjDn"
      },
      "outputs": [],
      "source": [
        "def define_LP(matrix, mapping, LPversion):\n",
        "    M, N = matrix.shape\n",
        "    model = gp.Model(env=env)\n",
        "\n",
        "    x = [[model.addVar(vtype=GRB.CONTINUOUS, lb = 0.0, ub = 1.0, name=f\"x_{i}_{j}\") for j in range(N)] for i in range(M)]\n",
        "    y = [model.addVar(vtype=GRB.CONTINUOUS, lb = 0.0, ub = 1.0, name=f\"y_{i}\") for i in range(len(mapping))]\n",
        "\n",
        "    for i in range(M - 1):\n",
        "      for j in range(N - 1):\n",
        "          v1, v2, v3, v4 = (i, j), (i, j + 1), (i + 1, j), (i + 1, j + 1)\n",
        "\n",
        "          y_v1_v2_v3 = y[e(mapping, v1, v2, v3)]\n",
        "          y_v1_v2_v4 = y[e(mapping, v1, v2, v4)]\n",
        "          y_v1_v3_v4 = y[e(mapping, v1, v3, v4)]\n",
        "          y_v2_v3_v4 = y[e(mapping, v2, v3, v4)]\n",
        "          y_v1_v2_v3_v4 = y[e(mapping, v1, v2, v3, v4)]\n",
        "          y_v1_v2 = y[e(mapping, v1, v2)]\n",
        "          y_v1_v3 = y[e(mapping, v1, v3)]\n",
        "          y_v1_v4 = y[e(mapping, v1, v4)]\n",
        "          y_v2_v3 = y[e(mapping, v2, v3)]\n",
        "          y_v2_v4 = y[e(mapping, v2, v4)]\n",
        "          y_v3_v4 = y[e(mapping, v3, v4)]\n",
        "          if LPversion == \"SL\" or LPversion == \"flower\" or LPversion == \"run\":\n",
        "            model.addConstr(y_v1_v2 <= x[i][j])\n",
        "            model.addConstr(y_v1_v2 <= x[i][j + 1])\n",
        "            model.addConstr(y_v1_v2 >= x[i][j] + x[i][j + 1] - 1)\n",
        "            model.addConstr(y_v1_v3 <= x[i][j])\n",
        "            model.addConstr(y_v1_v3 <= x[i + 1][j])\n",
        "            model.addConstr(y_v1_v3 >= x[i][j] + x[i + 1][j] - 1)\n",
        "            model.addConstr(y_v1_v4 <= x[i][j])\n",
        "            model.addConstr(y_v1_v4 <= x[i + 1][j + 1])\n",
        "            model.addConstr(y_v1_v4 >= x[i][j] + x[i + 1][j + 1] - 1)\n",
        "            model.addConstr(y_v2_v3 <= x[i][j + 1])\n",
        "            model.addConstr(y_v2_v3 <= x[i + 1][j])\n",
        "            model.addConstr(y_v2_v3 >= x[i][j + 1] + x[i + 1][j] - 1)\n",
        "            model.addConstr(y_v2_v4 <= x[i][j + 1])\n",
        "            model.addConstr(y_v2_v4 <= x[i + 1][j + 1])\n",
        "            model.addConstr(y_v2_v4 >= x[i][j + 1] + x[i + 1][j + 1] - 1)\n",
        "            model.addConstr(y_v3_v4 <= x[i + 1][j])\n",
        "            model.addConstr(y_v3_v4 <= x[i + 1][j + 1])\n",
        "            model.addConstr(y_v3_v4 >= x[i + 1][j] + x[i + 1][j + 1] - 1)\n",
        "            model.addConstr(y_v1_v2_v3 <= x[i][j])\n",
        "            model.addConstr(y_v1_v2_v3 <= x[i][j + 1])\n",
        "            model.addConstr(y_v1_v2_v3 <= x[i + 1][j])\n",
        "            model.addConstr(y_v1_v2_v3 >= x[i][j] + x[i][j + 1] + x[i + 1][j] - 2)\n",
        "            model.addConstr(y_v1_v2_v4 <= x[i][j])\n",
        "            model.addConstr(y_v1_v2_v4 <= x[i][j + 1])\n",
        "            model.addConstr(y_v1_v2_v4 <= x[i + 1][j + 1])\n",
        "            model.addConstr(y_v1_v2_v4 >= x[i][j] + x[i][j + 1] + x[i + 1][j + 1] - 2)\n",
        "            model.addConstr(y_v1_v3_v4 <= x[i][j])\n",
        "            model.addConstr(y_v1_v3_v4 <= x[i + 1][j])\n",
        "            model.addConstr(y_v1_v3_v4 <= x[i + 1][j + 1])\n",
        "            model.addConstr(y_v1_v3_v4 >= x[i][j] + x[i + 1][j] + x[i + 1][j + 1] - 2)\n",
        "            model.addConstr(y_v2_v3_v4 <= x[i][j + 1])\n",
        "            model.addConstr(y_v2_v3_v4 <= x[i + 1][j])\n",
        "            model.addConstr(y_v2_v3_v4 <= x[i + 1][j + 1])\n",
        "            model.addConstr(y_v2_v3_v4 >= x[i][j + 1] + x[i + 1][j] + x[i + 1][j + 1] - 2)\n",
        "            model.addConstr(y_v1_v2_v3_v4 <= x[i][j])\n",
        "            model.addConstr(y_v1_v2_v3_v4 <= x[i][j + 1])\n",
        "            model.addConstr(y_v1_v2_v3_v4 <= x[i + 1][j])\n",
        "            model.addConstr(y_v1_v2_v3_v4 <= x[i + 1][j + 1])\n",
        "            model.addConstr(y_v1_v2_v3_v4 >= x[i][j] + x[i][j + 1] + x[i + 1][j] + x[i + 1][j + 1] - 3)\n",
        "          if LPversion == \"flower\" or LPversion == \"run\":\n",
        "            model.addConstr(y_v1_v2 <= y_v1_v2_v3 - x[i+1][j] + 1)\n",
        "            model.addConstr(y_v1_v2_v3 <= y_v1_v2)\n",
        "            model.addConstr(y_v1_v2 <= y_v1_v2_v4 - x[i+1][j+1] + 1)\n",
        "            model.addConstr(y_v1_v2_v4 <= y_v1_v2)\n",
        "            model.addConstr(y_v1_v3 <= y_v1_v2_v3 - x[i][j+1] + 1)\n",
        "            model.addConstr(y_v1_v2_v3 <= y_v1_v3)\n",
        "            model.addConstr(y_v1_v3 <= y_v1_v3_v4 - x[i+1][j+1] + 1)\n",
        "            model.addConstr(y_v1_v3_v4 <= y_v1_v3)\n",
        "            model.addConstr(y_v1_v4 <= y_v1_v2_v4 - x[i][j+1] + 1)\n",
        "            model.addConstr(y_v1_v2_v4 <= y_v1_v4)\n",
        "            model.addConstr(y_v1_v4 <= y_v1_v3_v4 - x[i+1][j] + 1)\n",
        "            model.addConstr(y_v1_v3_v4 <= y_v1_v4)\n",
        "            model.addConstr(y_v2_v3 <= y_v1_v2_v3 - x[i][j] + 1)\n",
        "            model.addConstr(y_v1_v2_v3 <= y_v2_v3);\n",
        "            model.addConstr(y_v2_v3 <= y_v2_v3_v4 - x[i+1][j+1] + 1)\n",
        "            model.addConstr(y_v2_v3_v4 <= y_v2_v3)\n",
        "            model.addConstr(y_v2_v4 <= y_v1_v2_v4 - x[i][j] + 1)\n",
        "            model.addConstr(y_v1_v2_v4 <= y_v2_v4)\n",
        "            model.addConstr(y_v2_v4 <= y_v2_v3_v4 - x[i+1][j] + 1)\n",
        "            model.addConstr(y_v2_v3_v4 <= y_v2_v4)\n",
        "            model.addConstr(y_v3_v4 <= y_v1_v3_v4 - x[i][j] + 1)\n",
        "            model.addConstr(y_v1_v3_v4 <= y_v3_v4)\n",
        "            model.addConstr(y_v3_v4 <= y_v2_v3_v4 - x[i][j+1] + 1)\n",
        "            model.addConstr(y_v2_v3_v4 <= y_v3_v4)\n",
        "\n",
        "            model.addConstr(y_v1_v2_v3 <= y_v1_v2_v3_v4 - x[i+1][j+1] + 1)\n",
        "            model.addConstr(y_v1_v2_v3_v4 <= y_v1_v2_v3)\n",
        "            model.addConstr(y_v1_v2_v4 <= y_v1_v2_v3_v4 - x[i+1][j] + 1)\n",
        "            model.addConstr(y_v1_v2_v3_v4 <= y_v1_v2_v4)\n",
        "            model.addConstr(y_v1_v3_v4 <= y_v1_v2_v3_v4 - x[i][j+1] + 1)\n",
        "            model.addConstr(y_v1_v2_v3_v4 <= y_v1_v3_v4)\n",
        "            model.addConstr(y_v2_v3_v4 <= y_v1_v2_v3_v4 - x[i][j] + 1)\n",
        "            model.addConstr(y_v1_v2_v3_v4 <= y_v2_v3_v4)\n",
        "\n",
        "            model.addConstr(y_v1_v2 + y_v3_v4 - y_v1_v2_v3_v4 <= 1)\n",
        "            model.addConstr(y_v1_v3 + y_v2_v4 - y_v1_v2_v3_v4 <= 1)\n",
        "            model.addConstr(y_v1_v4 + y_v2_v3 - y_v1_v2_v3_v4 <= 1)\n",
        "          if LPversion == \"run\":\n",
        "            model.addConstr(-x[i][j] + y_v1_v2 + y_v1_v3 - y_v1_v2_v3 <= 0)\n",
        "            model.addConstr(-x[i][j+1] + y_v1_v2 + y_v2_v3 - y_v1_v2_v3 <= 0)\n",
        "            model.addConstr(-x[i+1][j] + y_v1_v3 + y_v2_v3 - y_v1_v2_v3 <= 0)\n",
        "            model.addConstr(-x[i][j] + y_v1_v2 + y_v1_v4 - y_v1_v2_v4 <= 0)\n",
        "            model.addConstr(-x[i][j+1] + y_v1_v2 + y_v2_v4 - y_v1_v2_v4 <= 0)\n",
        "            model.addConstr(-x[i+1][j+1] + y_v1_v4 + y_v2_v4 - y_v1_v2_v4 <= 0)\n",
        "            model.addConstr(-x[i][j] + y_v1_v3 + y_v1_v4 - y_v1_v3_v4 <= 0)\n",
        "            model.addConstr(-x[i+1][j] + y_v1_v3 + y_v3_v4 - y_v1_v3_v4 <= 0)\n",
        "            model.addConstr(-x[i+1][j+1] + y_v1_v4 + y_v3_v4 - y_v1_v3_v4 <= 0)\n",
        "            model.addConstr(-x[i][j+1] + y_v2_v3 + y_v2_v4 - y_v2_v3_v4 <= 0)\n",
        "            model.addConstr(-x[i+1][j] + y_v2_v3 + y_v3_v4 - y_v2_v3_v4 <= 0)\n",
        "            model.addConstr(-x[i+1][j+1] + y_v2_v4 + y_v3_v4 - y_v2_v3_v4 <= 0)\n",
        "\n",
        "            model.addConstr(-x[i][j] + y_v1_v2_v3 + y_v1_v2_v4 - y_v1_v2_v3_v4 <= 0)\n",
        "            model.addConstr(-x[i][j+1] + y_v1_v2_v3 + y_v1_v2_v4 - y_v1_v2_v3_v4 <= 0)\n",
        "            model.addConstr(-x[i][j] + y_v1_v2_v3 + y_v1_v3_v4 - y_v1_v2_v3_v4 <= 0)\n",
        "            model.addConstr(-x[i+1][j] + y_v1_v2_v3 + y_v1_v3_v4 - y_v1_v2_v3_v4 <= 0)\n",
        "            model.addConstr(-x[i][j+1] + y_v1_v2_v3 + y_v2_v3_v4 - y_v1_v2_v3_v4 <= 0)\n",
        "            model.addConstr(-x[i + 1][j] + y_v1_v2_v3 + y_v2_v3_v4 - y_v1_v2_v3_v4 <= 0)\n",
        "            model.addConstr(-x[i][j] + y_v1_v2_v4 + y_v1_v3_v4 - y_v1_v2_v3_v4 <= 0)\n",
        "            model.addConstr(-x[i + 1][j+1] + y_v1_v2_v4 + y_v1_v3_v4 - y_v1_v2_v3_v4 <= 0)\n",
        "            model.addConstr(-x[i][j+1] + y_v1_v2_v4 + y_v2_v3_v4 - y_v1_v2_v3_v4 <= 0)\n",
        "            model.addConstr(-x[i + 1][j+1] + y_v1_v2_v4 + y_v2_v3_v4 - y_v1_v2_v3_v4 <= 0)\n",
        "            model.addConstr(-x[i+1][j] + y_v1_v3_v4 + y_v2_v3_v4 - y_v1_v2_v3_v4 <= 0)\n",
        "            model.addConstr(-x[i + 1][j+1] + y_v1_v3_v4 + y_v2_v3_v4 - y_v1_v2_v3_v4 <= 0)\n",
        "          if LPversion == \"clique\":\n",
        "            model.addConstr(y_v1_v2_v3 - y_v1_v2_v3_v4 >= 0)\n",
        "            model.addConstr(y_v1_v2_v4 - y_v1_v2_v3_v4 >= 0)\n",
        "            model.addConstr(y_v1_v3_v4 - y_v1_v2_v3_v4 >= 0)\n",
        "            model.addConstr(y_v2_v3_v4 - y_v1_v2_v3_v4 >= 0)\n",
        "            model.addConstr(-y_v1_v2 + y_v1_v2_v3 + y_v1_v2_v4 - y_v1_v2_v3_v4 <= 0)\n",
        "            model.addConstr(-y_v1_v3 + y_v1_v2_v3 + y_v1_v3_v4 - y_v1_v2_v3_v4 <= 0)\n",
        "            model.addConstr(-y_v1_v4 + y_v1_v2_v4 + y_v1_v3_v4 - y_v1_v2_v3_v4 <= 0)\n",
        "            model.addConstr(-y_v2_v3 + y_v1_v2_v3 + y_v2_v3_v4 - y_v1_v2_v3_v4 <= 0)\n",
        "            model.addConstr(-y_v2_v4 + y_v1_v2_v4 + y_v2_v3_v4 - y_v1_v2_v3_v4 <= 0)\n",
        "            model.addConstr(-y_v3_v4 + y_v1_v3_v4 + y_v2_v3_v4 - y_v1_v2_v3_v4 <= 0)\n",
        "            model.addConstr(-x[i][j] + y_v1_v2 + y_v1_v3 + y_v1_v4 - y_v1_v2_v3 - y_v1_v2_v4 - y_v1_v3_v4 + y_v1_v2_v3_v4 <= 0)\n",
        "            model.addConstr(-x[i][j+1] + y_v1_v2 + y_v2_v3 + y_v2_v4 - y_v1_v2_v3 - y_v1_v2_v4 - y_v2_v3_v4 + y_v1_v2_v3_v4 <= 0)\n",
        "            model.addConstr(-x[i+1][j] + y_v1_v3 + y_v2_v3 + y_v3_v4 - y_v1_v2_v3 - y_v1_v3_v4 - y_v2_v3_v4 + y_v1_v2_v3_v4 <= 0)\n",
        "            model.addConstr(-x[i+1][j+1] + y_v1_v4 + y_v2_v4 + y_v3_v4 - y_v1_v2_v4 - y_v1_v3_v4 - y_v2_v3_v4 + y_v1_v2_v3_v4 <= 0)\n",
        "            model.addConstr(x[i][j] + x[i][j+1] + x[i+1][j] + x[i+1][j+1] - y_v1_v2 - y_v1_v3 - y_v1_v4 - y_v2_v3 - y_v2_v4 - y_v3_v4 + y_v1_v2_v3 + y_v1_v2_v4 + y_v1_v3_v4 + y_v2_v3_v4 - y_v1_v2_v3_v4 <= 1)\n",
        "\n",
        "    return model,x,y"
      ]
    },
    {
      "cell_type": "code",
      "execution_count": 12,
      "metadata": {
        "id": "pqFdsjmuXwRA"
      },
      "outputs": [],
      "source": [
        "def optimizer(model, x, y, obj_coe, weight, perturbated_matrix, matrix, mapping):\n",
        "\n",
        "    M, N = matrix.shape\n",
        "    obj = gp.LinExpr()\n",
        "    for i in range(M):\n",
        "        for j in range(N):\n",
        "            if perturbated_matrix[i][j] == 0:\n",
        "                obj += (-weight) * x[i][j]\n",
        "            else:\n",
        "                obj += weight * x[i][j]\n",
        "\n",
        "    for i in range(M - 1):\n",
        "        for j in range(N - 1):\n",
        "            v1 = (i, j)\n",
        "            v2 = (i, j + 1)\n",
        "            v3 = (i + 1, j)\n",
        "            v4 = (i + 1, j + 1)\n",
        "\n",
        "            obj += obj_coe[0] * x[i][j]\n",
        "            obj += obj_coe[1] * x[i][j + 1]\n",
        "            obj += obj_coe[2] * x[i + 1][j]\n",
        "            obj += obj_coe[3] * x[i + 1][j + 1]\n",
        "\n",
        "            obj += obj_coe[4] * y[e(mapping, v1, v4)]\n",
        "            obj += obj_coe[5] * y[e(mapping, v2, v3)]\n",
        "            obj += obj_coe[6] * y[e(mapping, v1, v2)]\n",
        "            obj += obj_coe[7] * y[e(mapping, v2, v4)]\n",
        "            obj += obj_coe[8] * y[e(mapping, v3, v4)]\n",
        "            obj += obj_coe[9] * y[e(mapping, v1, v3)]\n",
        "            obj += obj_coe[10] * y[e(mapping, v1, v2, v3)]\n",
        "            obj += obj_coe[11] * y[e(mapping, v1, v2, v4)]\n",
        "            obj += obj_coe[12] * y[e(mapping, v1, v3, v4)]\n",
        "            obj += obj_coe[13] * y[e(mapping, v2, v3, v4)]\n",
        "            obj += obj_coe[14] * y[e(mapping, v1, v2, v3, v4)]\n",
        "\n",
        "    model.setObjective(obj, GRB.MAXIMIZE)\n",
        "    # model.setParam('OutputFlag', 0)\n",
        "    # Optimize the model\n",
        "\n",
        "    start = time.perf_counter()\n",
        "    model.optimize()\n",
        "    elapsed = time.perf_counter() - start\n",
        "\n",
        "    tolerance = 1e-6  # Define your tolerance value\n",
        "    is_binary = all(\n",
        "        abs(x[i][j].X - 0) <= tolerance or abs(x[i][j].X - 1) <= tolerance\n",
        "        for i in range(M) for j in range(N)\n",
        "    )\n",
        "\n",
        "    return {\n",
        "        \"is_binary\": is_binary,\n",
        "        \"total_wall_time\": elapsed,\n",
        "        \"objective_value\": model.objVal if model.status == GRB.OPTIMAL else None,\n",
        "    }"
      ]
    },
    {
      "cell_type": "markdown",
      "source": [
        "## Run Experiments"
      ],
      "metadata": {
        "id": "eeNVNYhq_-nc"
      }
    },
    {
      "cell_type": "code",
      "source": [
        "def run_experiment(input_file, num_trials):\n",
        "    pattern_potential = [10, 20, 30, 40]\n",
        "    obj_coe = compute_potential(pattern_potential)\n",
        "    weight = 25\n",
        "    clean_matrix, mapping = read_data(input_file)\n",
        "    M, N = clean_matrix.shape\n",
        "\n",
        "    models = {\n",
        "        'clique_IP': define_clique_IP_model(clean_matrix, mapping),\n",
        "        'clique_LP': define_LP(clean_matrix, mapping, \"clique\"),\n",
        "        'std_LP': define_LP(clean_matrix, mapping, \"SL\"),\n",
        "        'flower_LP': define_LP(clean_matrix, mapping, \"flower\"),\n",
        "        'run_LP': define_LP(clean_matrix, mapping, \"run\")\n",
        "    }\n",
        "\n",
        "    num_models = len(models)\n",
        "    results = {\n",
        "        'tightness': np.zeros((num_models, 5, num_trials)),\n",
        "        'time': np.zeros((num_models, 5, num_trials)),\n",
        "        'obj': np.zeros((num_models, 5, num_trials))\n",
        "    }\n",
        "\n",
        "    for p_idx, p in enumerate([0.1, 0.2, 0.3, 0.4, 0.5]):\n",
        "        for trial in range(num_trials):\n",
        "            # Generate noisy matrix\n",
        "            noisy_matrix = clean_matrix + (np.random.rand(M, N) < p) * (1 - 2 * clean_matrix)\n",
        "\n",
        "            # Run optimization for each model\n",
        "            for model_idx, (model_name, (model, x, y)) in enumerate(models.items()):\n",
        "                result = optimizer(model, x, y, obj_coe, weight, noisy_matrix, clean_matrix, mapping)\n",
        "\n",
        "                results['tightness'][model_idx, p_idx, trial] = result[\"is_binary\"]\n",
        "                results['time'][model_idx, p_idx, trial] = result[\"total_wall_time\"]\n",
        "                results['obj'][model_idx, p_idx, trial] = result[\"objective_value\"]\n",
        "\n",
        "    return tuple(results.values())"
      ],
      "metadata": {
        "id": "yPMLMVBO6mCn"
      },
      "execution_count": 16,
      "outputs": []
    },
    {
      "cell_type": "code",
      "execution_count": null,
      "metadata": {
        "id": "vYECbA08teuY",
        "collapsed": true
      },
      "outputs": [],
      "source": [
        "run_experiment('/content/CEN_15.txt', 50)"
      ]
    }
  ],
  "metadata": {
    "colab": {
      "provenance": []
    },
    "kernelspec": {
      "display_name": "Python 3",
      "name": "python3"
    },
    "language_info": {
      "name": "python"
    }
  },
  "nbformat": 4,
  "nbformat_minor": 0
}